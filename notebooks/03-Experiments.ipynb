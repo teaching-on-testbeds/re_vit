{
 "cells": [
  {
   "cell_type": "markdown",
   "metadata": {},
   "source": [
    "# Experiments\n",
    "\n",
    "In this section, we will attempt to verify the qualitative and quantitative aspects of each claim. We will indicate which claims cannot be verified due to the lack of the material published by the authors. We will mainly use pretrained models published to verify these claims. Trying to reproduce such results without pretrained models can be very expensive as the computational requirement is huge.\n",
    "\n",
    "------------------------------------------------------------------------"
   ],
   "id": "e87ec3c8-a5f9-491b-9291-7754873b6257"
  },
  {
   "cell_type": "markdown",
   "metadata": {},
   "source": [
    "Before we dive into the experiments, let’s briefly discuss some of the common challenges that we will encounter in each of them. We will elaborate on these challenges later in the corresponding notebooks, but for now, here are some of the main issues that you should be aware of:\n",
    "\n",
    "-   The models are **very large and memory-intensive**, requiring a GPU with at least 16GB of RAM for the ViT models and at least 24GB of RAM for the ResNet models.\n",
    "-   The authors used a **very large batch size (512) and a huge number of steps**, which can be very costly to reproduce.\n",
    "-   The resolutions reported in the paper are **not consistent with the ones provided in the code**.\n",
    "-   The final fine-tuning learning rate for each dataset is **not reported in the paper**, but only the values used for grid search are given.\n",
    "-   The learning rate scheduler used in the authors’ code is **not exactly as described in the paper**.\n",
    "\n",
    "The following is a subset of table 4 from the paper which includes some of the values mentioned above:\n",
    "\n",
    "|      Dataset       | Steps  |          Base LR           |\n",
    "|:------------------:|:------:|:--------------------------:|\n",
    "|      ImageNet      | 20 000 | {0.003, 0.01, 0.03, 0.06}  |\n",
    "|      CIFAR100      | 10 000 | {0.001, 0.003, 0.01, 0.03} |\n",
    "|      CIFAR10       | 10 000 | {0.001, 0.003, 0.01, 0.03} |\n",
    "|  Oxford-IIIT Pets  |  500   | {0.001, 0.003, 0.01, 0.03} |\n",
    "| Oxford Flowers-102 |  500   | {0.001, 0.003, 0.01, 0.03} |\n",
    "\n",
    "------------------------------------------------------------------------"
   ],
   "id": "554de05f-2a57-4e2f-9331-741c02d7d4df"
  },
  {
   "cell_type": "markdown",
   "metadata": {},
   "source": [
    "Before starting any of the experiments, we need to download the **ImageNet-1k** validation data to be able to verify the results on the **ImageNet-1k** dataset as it is *not available* in `torchvision.datasets`.\n",
    "\n",
    "To access the dataset, you will need a **Hugging Face** account with an access token. You can obtain an access token by following this [tutorial](https://huggingface.co/docs/hub/security-tokens). Once you have an access token, visit the [dataset page](https://huggingface.co/datasets/imagenet-1k), read and accept the terms and conditions, and then run the following cells. Please note that the process may take 10 or more minutes to complete, depending on your internet connection.\n",
    "\n",
    "**🛑 To avoid getting errors, wait for each cell to finish before running the next cell**"
   ],
   "id": "838beeeb-3189-47c1-9f2e-5bd10278b0fb"
  },
  {
   "cell_type": "code",
   "execution_count": null,
   "metadata": {},
   "outputs": [],
   "source": [
    "# Login to hugging face using the token you created\n",
    "from huggingface_hub import login\n",
    "login()\n",
    "\n",
    "\"\"\"\n",
    "If you have Troubles running this cell, you can run this in the terminal\n",
    "\n",
    "$ pip install huggingface_hub[cli]\n",
    "\n",
    "$ huggingface-cli login\n",
    "\n",
    "It will ask for your token, enter it and press enter.\n",
    "Once you get login successful you can move on to the next cell.\n",
    "\"\"\""
   ],
   "id": "cfc1b83f-af6a-4710-aa23-5797dc39f09b"
  },
  {
   "cell_type": "code",
   "execution_count": null,
   "metadata": {},
   "outputs": [],
   "source": [
    "# Download the dataset from hugging face\n",
    "from huggingface_hub import hf_hub_download\n",
    "hf_hub_download(repo_id=\"imagenet-1k\", filename=\"data/val_images.tar.gz\", repo_type=\"dataset\")"
   ],
   "id": "a2c116f7-a19e-49cc-a98c-422f8f041a05"
  },
  {
   "cell_type": "markdown",
   "metadata": {},
   "source": [
    "The output of the previous cell contains a path. Please copy this path and paste it into the `path` variable in the next cell which will prepare the validation data to be used."
   ],
   "id": "cec254f4-ca3a-47ca-a3ad-5366f8751aaa"
  },
  {
   "cell_type": "code",
   "execution_count": null,
   "metadata": {},
   "outputs": [],
   "source": [
    "# Path to dataset file\n",
    "path = ''\n",
    "\n",
    "# Move the path to current directory\n",
    "!cp \"$path\" val_images.tar.gz"
   ],
   "id": "acc3a010-83aa-4d2d-be23-7ca01186d125"
  },
  {
   "cell_type": "code",
   "execution_count": null,
   "metadata": {},
   "outputs": [],
   "source": [
    "# Create the data/imagenet/val directory and extract the contents of val_images.tar.gz into it\n",
    "!mkdir -p data/imagenet/val && tar -xzf val_images.tar.gz -C data/imagenet/val"
   ],
   "id": "57aff0b0-d003-4256-87ba-ba638a6fddb9"
  },
  {
   "cell_type": "code",
   "execution_count": null,
   "metadata": {},
   "outputs": [],
   "source": [
    "# Download and run the valprep.sh script from the teaching-on-testbeds/re_vit repository\n",
    "!cd data/imagenet/val && wget -qO- https://raw.githubusercontent.com/teaching-on-testbeds/re_vit/main/imagenet_prep.sh | bash"
   ],
   "id": "f92ed9e9-f822-434a-bbe1-de5823b9e4aa"
  },
  {
   "cell_type": "code",
   "execution_count": null,
   "metadata": {},
   "outputs": [],
   "source": [
    "# Remove val_images.tar.gz, you can remove from path using rm \"$path\"\n",
    "!rm val_images.tar.gz"
   ],
   "id": "be7edfbc-ae2b-4222-a947-d195de871c65"
  },
  {
   "cell_type": "markdown",
   "metadata": {},
   "source": [
    "------------------------------------------------------------------------"
   ],
   "id": "ca9475d4-b204-4328-8fc8-f418eafc9b96"
  },
  {
   "cell_type": "markdown",
   "metadata": {},
   "source": [
    "## Primary Experiment:\n",
    "\n",
    "In this experiment we want to reproduce the claim: *“Vision Transformer outperforms state of the art CNNs on various classification tasks after pretraining on large datasets”* by using the only available pretrained model in the table in that claim and compare it to the other model that are pretrained on the **ImageNet-21k** unlike in the original paper where the other models were pretrained on the **JFT-300M** private dataset.\n",
    "\n",
    "------------------------------------------------------------------------"
   ],
   "id": "a13a0c78-89b7-490d-88f4-ad0a44855aba"
  },
  {
   "cell_type": "markdown",
   "metadata": {},
   "source": [
    "This experiment is divided into two notebooks, which you can use to evaluate the model’s performance on a specific dataset by running the corresponding sections in both notebooks. After running these notebooks, you can create the table from the primary claim using the cell below:\n",
    "\n",
    "-   [ResNet notebook](03.1-ResNet.ipynb): This notebook allows us to evaluate the performance of different **ResNet** models on various image classification datasets. The `model name` can be changed to try different models. The models in this notebook used for this experiment are pretrained on the **ImageNet-21k** dataset and are ready for fine-tuning.\n",
    "\n",
    "-   [ViT notebook](03.2-ViT.ipynb): This notebook allows us to evaluate the performance of different **Vision Transformer (ViT)** models on various image classification datasets. The `model name` can be changed to try different models. The models in this notebook are pretrained on the **ImageNet-21k** dataset and are ready for fine-tuning.\n",
    "\n",
    "**🛑 If running crashes while GPU is used you will to restart runtime to kill process and empty GPU, if you can’t find restart the runtime then use the `nvidia-smi` command in the terminal and kill the process**\n",
    "\n",
    "------------------------------------------------------------------------"
   ],
   "id": "dabd7221-e229-4893-ba2a-a9fc8107a3ec"
  },
  {
   "cell_type": "markdown",
   "metadata": {},
   "source": [
    "After running both notebooks, now we can reproduce the table using the results stored in `resnet.json` and `vit.json`"
   ],
   "id": "733527b3-3979-4fd1-b362-2693b8ee1d65"
  },
  {
   "cell_type": "code",
   "execution_count": null,
   "metadata": {},
   "outputs": [],
   "source": [
    "# Load the data from both json files and create a table with results\n",
    "import pandas as pd\n",
    "import json\n",
    "\n",
    "# Read from json file\n",
    "with open(\"experiments/resnet.json\", \"r\") as f:\n",
    "    resnet = json.load(f)\n",
    "# Read from json file\n",
    "with open(\"experiments/vit.json\", \"r\") as f:\n",
    "    vit = json.load(f)\n",
    "\n",
    "overall={}\n",
    "\n",
    "# Merge resnet and vit dictionaries into one overall dictionary\n",
    "overall['ViT-L/16'] = vit\n",
    "overall['ResNet152x4'] = resnet\n",
    "\n",
    "# Calculate the difference between the results of the two models in the dictionary\n",
    "overall['Differnce'] = {}\n",
    "for key in resnet.keys():\n",
    "    overall['Differnce'][key] = overall['ViT-L/16'][key] - overall['ResNet152x4'][key]\n",
    "\n",
    "# Create a dataframe with the result to be in a table form\n",
    "df = pd.DataFrame.from_dict(overall).T\n",
    "\n",
    "# Display the dataframe\n",
    "display(df.style.set_properties(**{'text-align': 'center', 'border': '2px solid black', 'padding': '10px',\\\n",
    "                                   'font-size': '15px'}))"
   ],
   "id": "14178a94-37b9-4c22-b5d0-9f4b73328e28"
  },
  {
   "cell_type": "markdown",
   "metadata": {},
   "source": [
    "Create a similar table like the one generated by the previous cell for the models pre-trained on the **JFT-300M** dataset using the results from the paper and compare it to our results. Make sure to include a difference row between the two models.\n",
    "\n",
    "**Do you think we were able to verify the qualitative version of the claim? 🤔**\n",
    "\n",
    "------------------------------------------------------------------------"
   ],
   "id": "bd3d24e0-bdef-4947-ae9a-7b8c81355ab9"
  },
  {
   "cell_type": "markdown",
   "metadata": {},
   "source": [
    "After running both notebooks, now we can reproduce the table using the results stored in `resnet.json` and `vit.json`"
   ],
   "id": "5cac167b-d83d-4fe6-b7b4-62c482aeceed"
  },
  {
   "cell_type": "code",
   "execution_count": null,
   "metadata": {},
   "outputs": [],
   "source": [
    "# Load the data from both json files and create a table with results\n",
    "import pandas as pd\n",
    "import json\n",
    "\n",
    "# Read from json file\n",
    "with open(\"experiments/resnet_time.json\", \"r\") as f:\n",
    "    resnet = json.load(f)\n",
    "# Read from json file\n",
    "with open(\"experiments/vit_time.json\", \"r\") as f:\n",
    "    vit = json.load(f)\n",
    "\n",
    "overall={}\n",
    "\n",
    "# Merge resnet and vit dictionaries into one overall dictionary\n",
    "overall['ViT-L/16'] = vit\n",
    "overall['ResNet152x4'] = resnet\n",
    "\n",
    "# Create a dataframe with the result to be in a table form\n",
    "df = pd.DataFrame.from_dict(overall).T\n",
    "\n",
    "# Display the dataframe\n",
    "display(df.style.set_properties(**{'text-align': 'center', 'border': '2px solid black', 'padding': '10px',\\\n",
    "                                   'font-size': '14px'}))"
   ],
   "id": "e794b060-3aad-40c3-903a-7f49f8819c5c"
  },
  {
   "cell_type": "markdown",
   "metadata": {},
   "source": [
    "**Can you use the information from the table at the beginning of this notebook and the results from the generated table to calculate the time required to perform a grid search on the learning rates, as described in the paper? 🤓**\n",
    "\n",
    "------------------------------------------------------------------------"
   ],
   "id": "0110ae27-4bc8-4b78-80ce-31c68ea7f7de"
  },
  {
   "cell_type": "markdown",
   "metadata": {},
   "source": [
    "### Things to try: 🧪\n",
    "\n",
    "We have experimented with some fine-tuning hyperparameters that yielded good results, but there is still room for improvement in the performance of the models. For example, we can explore:\n",
    "\n",
    "-   Using **different learning rates** to determine the sensitivity of the models to this hyperparameter. A learning rate that is too high or too low can affect the convergence and accuracy of the models.\n",
    "\n",
    "-   Trying different **image resolutions** to see if this improves the results.\n",
    "\n",
    "-   Changing the **number of epochs** to determine its impact on the final results. Altering the number of epochs may lead to better results, but it also increases the risk of overfitting or underfitting.\n",
    "\n",
    "-   Checking the **sensitivity of the model to the random seed** by changing it. The random seed can influence the initialization of the weights and the shuffling of the data, and different seeds may result in different outcomes for the same model and dataset.\n",
    "\n",
    "**🛑 Please note that trying these options will take some time. You may want to try them only for the Oxford datasets, which require the least amount of time.**\n",
    "\n",
    "------------------------------------------------------------------------"
   ],
   "id": "f533d4e7-a453-47c2-8ba4-0fcc654542d4"
  }
 ],
 "nbformat": 4,
 "nbformat_minor": 5,
 "metadata": {}
}
